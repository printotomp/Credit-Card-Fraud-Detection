Purpose: Custom SVM implementation with hinge loss
Key Sections:
- Manual preprocessing and feature selection
- Custom hinge loss, forward pass, gradient update
- Epoch-wise training and loss tracking
- Visualization: loss curve
- Accuracy estimation based on fraud prediction
- Ethical framing: algorithmic transparency, control over decision boundaries
