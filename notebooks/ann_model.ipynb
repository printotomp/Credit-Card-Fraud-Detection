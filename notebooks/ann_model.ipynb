Purpose: Deep learning approach with ANN and SMOTETomek
Key Sections:
- Duplicate removal and class imbalance visualization
- Resampling using SMOTETomek
- ANN architecture with Keras (3 layers, ReLU + Sigmoid)
- Training with validation split and 20 epochs
- Visualization: loss and accuracy curves
- Evaluation: confusion matrix, classification report
- GridSearchCV for hyperparameter tuning
- Ethical framing: fairness via resampling, transparency via training curves
