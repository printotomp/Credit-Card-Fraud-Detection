#  Deep Learning Fraud Detection with ANN and SMOTETomek
# Purpose: Build a fairness-aware fraud detection model using Keras ANN and SMOTETomek resampling

#  1. Import Libraries
import pandas as pd
import matplotlib.pyplot as plt
import seaborn as sns
import warnings
warnings.filterwarnings("ignore")

from imblearn.combine import SMOTETomek
from sklearn.model_selection import train_test_split
from sklearn.metrics import confusion_matrix, classification_report, accuracy_score, roc_auc_score

from keras.models import Sequential
from keras.layers import Dense, Dropout

#  2. Load and Clean Data
df = pd.read_csv("E:\\UEL\\DS7010\\creditcard.csv")
df.drop_duplicates(inplace=True)  # Remove duplicate rows

#  3. Visualize Class Imbalance
class_counts = df['Class'].value_counts()
plt.figure(figsize=(6,4))
sns.barplot(x=class_counts.index, y=class_counts.values, palette=['gray', 'crimson'])
plt.title("Class Distribution: 0 = Non-Fraud, 1 = Fraud")
plt.ylabel("Count")
plt.show()

#  4. Resample Using SMOTETomek
X = df.drop('Class', axis=1)
y = df['Class']
X_resampled, y_resampled = SMOTETomek(random_state=42).fit_resample(X, y)

# Confirm balance
sns.countplot(x=y_resampled, palette='Set2')
plt.title("Balanced Class Distribution After SMOTETomek")
plt.show()

#  5. Train-Test Split
X_train, X_test, y_train, y_test = train_test_split(X_resampled, y_resampled, test_size=0.2, random_state=42)

#  6. Build ANN Model
model = Sequential()
model.add(Dense(32, activation='relu', input_dim=X_train.shape[1]))
model.add(Dropout(0.3))
model.add(Dense(16, activation='relu'))
model.add(Dense(1, activation='sigmoid'))

# Compile model
model.compile(optimizer='adam', loss='binary_crossentropy', metrics=['accuracy'])

#  7. Train Model with Validation Split
history = model.fit(X_train, y_train, epochs=20, batch_size=32, validation_split=0.2, verbose=1)

#  8. Visualize Training: Loss and Accuracy Curves
plt.figure(figsize=(10,5))
plt.plot(history.history['loss'], label='Loss', color='gray')
plt.plot(history.history['val_loss'], label='Val Loss', color='crimson')
plt.title("Loss vs. Validation Loss")
plt.xlabel("Epochs")
plt.ylabel("Loss")
plt.legend()
plt.show()

plt.figure(figsize=(10,5))
plt.plot(history.history['accuracy'], label='Accuracy', color='gray')
plt.plot(history.history['val_accuracy'], label='Val Accuracy', color='crimson')
plt.title("Accuracy vs. Validation Accuracy")
plt.xlabel("Epochs")
plt.ylabel("Accuracy")
plt.legend()
plt.show()

#  9. Evaluate Model
y_pred = model.predict(X_test)
y_pred = (y_pred > 0.5).astype(int)

# Confusion Matrix
plt.figure(figsize=(6,5))
sns.heatmap(confusion_matrix(y_test, y_pred), annot=True, fmt='d', cmap='Blues',
            xticklabels=['Non-Fraud', 'Fraud'], yticklabels=['Non-Fraud', 'Fraud'])
plt.title("Confusion Matrix")
plt.xlabel("Predicted")
plt.ylabel("Actual")
plt.show()

# Classification Report
print("Classification Report:\n", classification_report(y_test, y_pred))

# ROC AUC Score
print("ROC AUC Score:", roc_auc_score(y_test, model.predict(X_test)))

#  10. Ethical Framing
print("""
Ethical Framing:
This model addresses fraud detection with a fairness-first approach. SMOTETomek resampling ensures balanced representation of fraud cases.
Training transparency is achieved through validation curves. Evaluation includes precision, recall, F1-score, and ROC AUC.
Future work will explore explainability tools (e.g., SHAP) and fairness audits to ensure responsible deployment in financial systems.
""")
