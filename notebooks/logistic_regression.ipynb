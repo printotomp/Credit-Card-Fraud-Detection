#  Baseline Fraud Detection using Logistic Regression
# Purpose: Build an interpretable and fairness-aware fraud detection model using Logistic Regression

#  1. Import Libraries
import pandas as pd
import matplotlib.pyplot as plt
import seaborn as sns
from sklearn.model_selection import train_test_split
from sklearn.linear_model import LogisticRegression
from sklearn.metrics import classification_report, confusion_matrix, roc_auc_score, roc_curve
import scikitplot as skplt
import warnings
warnings.filterwarnings("ignore")

#  2. Load and Explore Dataset
df = pd.read_csv("E:\\UEL\\DS7010\\creditcard.csv")  # Load dataset
print("Shape of dataset:", df.shape)
df.info()  # Data types and nulls
print(df.describe().round())  # Summary statistics

#  3. Class Distribution Visualization
non_fraud_pct = round(df['Class'].value_counts()[0] / len(df) * 100, 2)
fraud_pct = round(df['Class'].value_counts()[1] / len(df) * 100, 2)
print(f"Not Fraud %: {non_fraud_pct}")
print(f"Fraud %: {fraud_pct}")

plt.figure(figsize=(10,8))
sns.barplot(x=df['Class'].value_counts().index, y=df['Class'].value_counts(), palette=["C1", "C8"])
plt.title("Class Distribution: Fraud vs. Non-Fraud")
plt.xlabel("Class (0 = Non-Fraud, 1 = Fraud)")
plt.ylabel("Count")
plt.show()

#  4. Feature-Target Split and Train-Test Split
feature_names = df.iloc[:, 1:30].columns  # Exclude 'Time'
target = df.iloc[:1, 30:].columns         # 'Class'
data_features = df[feature_names]
data_target = df[target]

X_train, X_test, y_train, y_test = train_test_split(
    data_features, data_target, test_size=0.3, stratify=data_target, random_state=1
)

#  5. Model Training with Logistic Regression
lr = LogisticRegression(max_iter=1000)
lr.fit(X_train, y_train.values.ravel())

#  6. Evaluation: Confusion Matrix, Classification Report, ROC Curve
def RunModel(model, X_train, y_train, X_test, y_test):
    model.fit(X_train, y_train.values.ravel())
    pred = model.predict(X_test)
    matrix = confusion_matrix(y_test, pred)
    return matrix, pred

cmat, pred = RunModel(lr, X_train, y_train, X_test, y_test)

# Confusion Matrix Plot
skplt.metrics.plot_confusion_matrix(y_test, pred, figsize=(6,5))
plt.title("Confusion Matrix")
plt.show()

# Classification Report
print("Classification Report:\n", classification_report(y_test, pred))

# ROC Curve
y_proba = lr.predict_proba(X_test)[:,1]
fpr, tpr, _ = roc_curve(y_test, y_proba)
plt.figure(figsize=(8,6))
plt.plot(fpr, tpr, label=f"AUC = {roc_auc_score(y_test, y_proba):.2f}")
plt.plot([0,1], [0,1], linestyle='--', color='gray')
plt.title("ROC Curve")
plt.xlabel("False Positive Rate")
plt.ylabel("True Positive Rate")
plt.legend()
plt.show()

#  7. Ethical Framing
print("""
Ethical Framing:
This notebook prioritizes transparency and fairness in fraud detection. Logistic Regression offers interpretable coefficients, aiding auditability and bias detection.
Class imbalance is visualized and acknowledged, with future work planned on resampling and fairness metrics (e.g., equal opportunity, disparate impact).
Ensemble models like Random Forest are used cautiously, with attention to overfitting and explainability.
""")
