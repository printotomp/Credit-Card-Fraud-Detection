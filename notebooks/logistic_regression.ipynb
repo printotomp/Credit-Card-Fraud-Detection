Purpose: Baseline fraud detection using Logistic Regression
Key Sections:
- Data loading and preprocessing (creditcard.csv)
df = pd.read_csv("E:\\UEL\\DS7010\\creditcard.csv")
print(df.shape)
df.info()
df.describe().round()

- Class distribution visualization (Fraud vs. Non-Fraud)
print('Not Fraud %', round(df['Class'].value_counts()[0]/len(df)*100,2))
print('Fraud %', round(df['Class'].value_counts()[1]/len(df)*100,2))

plt.figure(figsize=(10,8))
sns.barplot(x=df['Class'].value_counts().index, y=df['Class'].value_counts(), palette=["C1", "C8"])

- Feature-target split and train-test split
feature_names = df.iloc[:, 1:30].columns
target = df.iloc[:1, 30:].columns
data_features = df[feature_names]
data_target = df[target]

X_train, X_test, y_train, y_test = train_test_split(data_features, data_target, test_size=0.3, stratify=data_target, random_state=1)


- Model training with LogisticRegression
lr = LogisticRegression()
lr.fit(X_train, y_train.values.ravel())

- Evaluation: confusion matrix, classification report, ROC curve
cmat, pred = RunModel(lr, X_train, y_train, X_test, y_test)
skplt.metrics.plot_confusion_matrix(y_test, pred)
print(classification_report(y_test, pred))


- Ethical framing: interpretable model, fairness metrics
This notebook prioritizes transparency and fairness in fraud detection. Logistic Regression offers interpretable coefficients, aiding auditability and bias detection. 
Class imbalance is visualized and acknowledged, with future work planned on resampling and fairness metrics (e.g., equal opportunity, disparate impact). 
Ensemble models like Random Forest are used cautiously, with attention to overfitting and explainability.

