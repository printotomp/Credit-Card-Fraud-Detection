Purpose: Baseline fraud detection using Logistic Regression
Key Sections:
- Data loading and preprocessing (creditcard.csv)
- Class distribution visualization (Fraud vs. Non-Fraud)
- Feature-target split and train-test split
- Model training with LogisticRegression
- Evaluation: confusion matrix, classification report, ROC curve
- Ethical framing: interpretable model, fairness metrics
